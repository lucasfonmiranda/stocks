{
 "cells": [
  {
   "cell_type": "markdown",
   "metadata": {},
   "source": [
    "# Simple study about stocks\n",
    "\n",
    "In this kernel i srtart one study about stocks. "
   ]
  },
  {
   "cell_type": "code",
   "execution_count": null,
   "metadata": {},
   "outputs": [],
   "source": [
    "import pandas as pd\n",
    "import datetime\n",
    "import pandas_datareader.data as web\n",
    "from pandas import Series, DataFrame\n",
    "import math\n",
    "import numpy as np"
   ]
  },
  {
   "cell_type": "code",
   "execution_count": 2,
   "metadata": {},
   "outputs": [],
   "source": [
    "start = datetime.datetime(2010, 1,1 )\n",
    "end = datetime.datetime(2020,2,18)"
   ]
  },
  {
   "cell_type": "code",
   "execution_count": 39,
   "metadata": {},
   "outputs": [],
   "source": [
    "df = web.DataReader(\"GOOG\", 'yahoo', start, end)\n",
    "df_amazon = web.DataReader(\"AMZN\", 'yahoo', start, end)"
   ]
  },
  {
   "cell_type": "code",
   "execution_count": 30,
   "metadata": {},
   "outputs": [
    {
     "data": {
      "text/html": [
       "<div>\n",
       "<style scoped>\n",
       "    .dataframe tbody tr th:only-of-type {\n",
       "        vertical-align: middle;\n",
       "    }\n",
       "\n",
       "    .dataframe tbody tr th {\n",
       "        vertical-align: top;\n",
       "    }\n",
       "\n",
       "    .dataframe thead th {\n",
       "        text-align: right;\n",
       "    }\n",
       "</style>\n",
       "<table border=\"1\" class=\"dataframe\">\n",
       "  <thead>\n",
       "    <tr style=\"text-align: right;\">\n",
       "      <th></th>\n",
       "      <th>High</th>\n",
       "      <th>Low</th>\n",
       "      <th>Open</th>\n",
       "      <th>Close</th>\n",
       "      <th>Volume</th>\n",
       "      <th>Adj Close</th>\n",
       "    </tr>\n",
       "    <tr>\n",
       "      <th>Date</th>\n",
       "      <th></th>\n",
       "      <th></th>\n",
       "      <th></th>\n",
       "      <th></th>\n",
       "      <th></th>\n",
       "      <th></th>\n",
       "    </tr>\n",
       "  </thead>\n",
       "  <tbody>\n",
       "    <tr>\n",
       "      <th>2020-02-12</th>\n",
       "      <td>1520.694946</td>\n",
       "      <td>1508.109985</td>\n",
       "      <td>1514.479980</td>\n",
       "      <td>1518.270020</td>\n",
       "      <td>1167600.0</td>\n",
       "      <td>1518.270020</td>\n",
       "    </tr>\n",
       "    <tr>\n",
       "      <th>2020-02-13</th>\n",
       "      <td>1527.180054</td>\n",
       "      <td>1504.599976</td>\n",
       "      <td>1512.689941</td>\n",
       "      <td>1514.660034</td>\n",
       "      <td>929500.0</td>\n",
       "      <td>1514.660034</td>\n",
       "    </tr>\n",
       "    <tr>\n",
       "      <th>2020-02-14</th>\n",
       "      <td>1520.739990</td>\n",
       "      <td>1507.339966</td>\n",
       "      <td>1515.599976</td>\n",
       "      <td>1520.739990</td>\n",
       "      <td>1197800.0</td>\n",
       "      <td>1520.739990</td>\n",
       "    </tr>\n",
       "    <tr>\n",
       "      <th>2020-02-18</th>\n",
       "      <td>1531.630005</td>\n",
       "      <td>1512.589966</td>\n",
       "      <td>1515.000000</td>\n",
       "      <td>1519.670044</td>\n",
       "      <td>1120700.0</td>\n",
       "      <td>1519.670044</td>\n",
       "    </tr>\n",
       "    <tr>\n",
       "      <th>2020-02-19</th>\n",
       "      <td>1532.105957</td>\n",
       "      <td>1521.400024</td>\n",
       "      <td>1525.069946</td>\n",
       "      <td>1526.689941</td>\n",
       "      <td>949300.0</td>\n",
       "      <td>1526.689941</td>\n",
       "    </tr>\n",
       "  </tbody>\n",
       "</table>\n",
       "</div>"
      ],
      "text/plain": [
       "                   High          Low         Open        Close     Volume  \\\n",
       "Date                                                                        \n",
       "2020-02-12  1520.694946  1508.109985  1514.479980  1518.270020  1167600.0   \n",
       "2020-02-13  1527.180054  1504.599976  1512.689941  1514.660034   929500.0   \n",
       "2020-02-14  1520.739990  1507.339966  1515.599976  1520.739990  1197800.0   \n",
       "2020-02-18  1531.630005  1512.589966  1515.000000  1519.670044  1120700.0   \n",
       "2020-02-19  1532.105957  1521.400024  1525.069946  1526.689941   949300.0   \n",
       "\n",
       "              Adj Close  \n",
       "Date                     \n",
       "2020-02-12  1518.270020  \n",
       "2020-02-13  1514.660034  \n",
       "2020-02-14  1520.739990  \n",
       "2020-02-18  1519.670044  \n",
       "2020-02-19  1526.689941  "
      ]
     },
     "execution_count": 30,
     "metadata": {},
     "output_type": "execute_result"
    }
   ],
   "source": [
    "df.tail()"
   ]
  },
  {
   "cell_type": "code",
   "execution_count": 40,
   "metadata": {},
   "outputs": [
    {
     "data": {
      "text/html": [
       "<div>\n",
       "<style scoped>\n",
       "    .dataframe tbody tr th:only-of-type {\n",
       "        vertical-align: middle;\n",
       "    }\n",
       "\n",
       "    .dataframe tbody tr th {\n",
       "        vertical-align: top;\n",
       "    }\n",
       "\n",
       "    .dataframe thead th {\n",
       "        text-align: right;\n",
       "    }\n",
       "</style>\n",
       "<table border=\"1\" class=\"dataframe\">\n",
       "  <thead>\n",
       "    <tr style=\"text-align: right;\">\n",
       "      <th></th>\n",
       "      <th>High</th>\n",
       "      <th>Low</th>\n",
       "      <th>Open</th>\n",
       "      <th>Close</th>\n",
       "      <th>Volume</th>\n",
       "      <th>Adj Close</th>\n",
       "    </tr>\n",
       "    <tr>\n",
       "      <th>Date</th>\n",
       "      <th></th>\n",
       "      <th></th>\n",
       "      <th></th>\n",
       "      <th></th>\n",
       "      <th></th>\n",
       "      <th></th>\n",
       "    </tr>\n",
       "  </thead>\n",
       "  <tbody>\n",
       "    <tr>\n",
       "      <th>2020-02-12</th>\n",
       "      <td>2180.250000</td>\n",
       "      <td>2155.290039</td>\n",
       "      <td>2163.199951</td>\n",
       "      <td>2160.000000</td>\n",
       "      <td>3334300</td>\n",
       "      <td>2160.000000</td>\n",
       "    </tr>\n",
       "    <tr>\n",
       "      <th>2020-02-13</th>\n",
       "      <td>2170.280029</td>\n",
       "      <td>2142.000000</td>\n",
       "      <td>2144.989990</td>\n",
       "      <td>2149.870117</td>\n",
       "      <td>3031800</td>\n",
       "      <td>2149.870117</td>\n",
       "    </tr>\n",
       "    <tr>\n",
       "      <th>2020-02-14</th>\n",
       "      <td>2159.040039</td>\n",
       "      <td>2125.889893</td>\n",
       "      <td>2155.679932</td>\n",
       "      <td>2134.870117</td>\n",
       "      <td>2606200</td>\n",
       "      <td>2134.870117</td>\n",
       "    </tr>\n",
       "    <tr>\n",
       "      <th>2020-02-18</th>\n",
       "      <td>2166.070068</td>\n",
       "      <td>2124.110107</td>\n",
       "      <td>2125.020020</td>\n",
       "      <td>2155.669922</td>\n",
       "      <td>2945600</td>\n",
       "      <td>2155.669922</td>\n",
       "    </tr>\n",
       "    <tr>\n",
       "      <th>2020-02-19</th>\n",
       "      <td>2185.100098</td>\n",
       "      <td>2161.120117</td>\n",
       "      <td>2167.800049</td>\n",
       "      <td>2170.219971</td>\n",
       "      <td>2561200</td>\n",
       "      <td>2170.219971</td>\n",
       "    </tr>\n",
       "  </tbody>\n",
       "</table>\n",
       "</div>"
      ],
      "text/plain": [
       "                   High          Low         Open        Close   Volume  \\\n",
       "Date                                                                      \n",
       "2020-02-12  2180.250000  2155.290039  2163.199951  2160.000000  3334300   \n",
       "2020-02-13  2170.280029  2142.000000  2144.989990  2149.870117  3031800   \n",
       "2020-02-14  2159.040039  2125.889893  2155.679932  2134.870117  2606200   \n",
       "2020-02-18  2166.070068  2124.110107  2125.020020  2155.669922  2945600   \n",
       "2020-02-19  2185.100098  2161.120117  2167.800049  2170.219971  2561200   \n",
       "\n",
       "              Adj Close  \n",
       "Date                     \n",
       "2020-02-12  2160.000000  \n",
       "2020-02-13  2149.870117  \n",
       "2020-02-14  2134.870117  \n",
       "2020-02-18  2155.669922  \n",
       "2020-02-19  2170.219971  "
      ]
     },
     "execution_count": 40,
     "metadata": {},
     "output_type": "execute_result"
    }
   ],
   "source": [
    "df_amazon.tail()"
   ]
  },
  {
   "cell_type": "code",
   "execution_count": 37,
   "metadata": {},
   "outputs": [],
   "source": [
    "\"\"\" \n",
    "Moving average -> In statistic, a moving average is a calculation to analyze\n",
    "data points by creating a series of averages of differents subsets of the full\n",
    "data set. \n",
    "\"\"\"\n",
    "def get_moving_average(data):\n",
    "    close_adj = data['Adj Close']\n",
    "    mavg = close_adj.rolling(window=100).mean()\n",
    "    return close_adj, mavg"
   ]
  },
  {
   "cell_type": "code",
   "execution_count": 32,
   "metadata": {},
   "outputs": [],
   "source": [
    "# Start to work with graph\n",
    "\n",
    "%matplotlib inline\n",
    "import matplotlib.pyplot as plt\n",
    "from matplotlib import style\n",
    "import matplotlib as mpl"
   ]
  },
  {
   "cell_type": "code",
   "execution_count": 34,
   "metadata": {},
   "outputs": [],
   "source": [
    "\"\"\"\n",
    "Function to plot figure with the normal stock envolve and moving average.\n",
    "\"\"\"\n",
    "\n",
    "def plot_figure(close_adj, mavg, name_stock):\n",
    "\n",
    "    mpl.rc('figure', figsize=(8, 7))\n",
    "    style.use('ggplot')\n",
    "\n",
    "    close_adj.plot(label=name_stock)\n",
    "    mavg.plot(label='mavg')\n",
    "    plt.legend()\n",
    "    \n",
    "    return\n",
    "    "
   ]
  },
  {
   "cell_type": "code",
   "execution_count": 42,
   "metadata": {},
   "outputs": [],
   "source": [
    "amazon_adj, amazon_mavg = get_moving_average(df_fb)"
   ]
  },
  {
   "cell_type": "code",
   "execution_count": 43,
   "metadata": {},
   "outputs": [
    {
     "data": {
      "image/png": "[encoded data removed]",
      "text/plain": [
       "<Figure size 576x504 with 1 Axes>"
      ]
     },
     "metadata": {},
     "output_type": "display_data"
    }
   ],
   "source": [
    "name_stock = 'AMZN'\n",
    "plot_figure(amazon_adj, amazon_mavg, name_stock)"
   ]
  },
  {
   "cell_type": "code",
   "execution_count": null,
   "metadata": {},
   "outputs": [],
   "source": []
  }
 ],
 "metadata": {
  "kernelspec": {
   "display_name": "Python 3",
   "language": "python",
   "name": "python3"
  },
  "language_info": {
   "codemirror_mode": {
    "name": "ipython",
    "version": 3
   },
   "file_extension": ".py",
   "mimetype": "text/x-python",
   "name": "python",
   "nbconvert_exporter": "python",
   "pygments_lexer": "ipython3",
   "version": "3.7.6"
  }
 },
 "nbformat": 4,
 "nbformat_minor": 4
}
